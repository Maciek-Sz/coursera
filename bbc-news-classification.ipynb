{
 "cells": [
  {
   "cell_type": "markdown",
   "metadata": {
    "papermill": {
     "duration": 0.01396,
     "end_time": "2021-01-12T21:06:33.161829",
     "exception": false,
     "start_time": "2021-01-12T21:06:33.147869",
     "status": "completed"
    },
    "tags": []
   },
   "source": [
    "# **Get data**"
   ]
  },
  {
   "cell_type": "code",
   "execution_count": 1,
   "metadata": {
    "_cell_guid": "79c7e3d0-c299-4dcb-8224-4455121ee9b0",
    "_uuid": "d629ff2d2480ee46fbb7e2d37f6b5fab8052498a",
    "execution": {
     "iopub.execute_input": "2021-01-12T21:06:33.201368Z",
     "iopub.status.busy": "2021-01-12T21:06:33.200707Z",
     "iopub.status.idle": "2021-01-12T21:06:33.322032Z",
     "shell.execute_reply": "2021-01-12T21:06:33.321481Z"
    },
    "papermill": {
     "duration": 0.146969,
     "end_time": "2021-01-12T21:06:33.322146",
     "exception": false,
     "start_time": "2021-01-12T21:06:33.175177",
     "status": "completed"
    },
    "tags": []
   },
   "outputs": [],
   "source": [
    "import pandas as pd\n",
    "\n",
    "data = pd.read_csv(\"../input/newsgroup20bbcnews/bbc-text.csv\")"
   ]
  },
  {
   "cell_type": "markdown",
   "metadata": {
    "papermill": {
     "duration": 0.01314,
     "end_time": "2021-01-12T21:06:33.348875",
     "exception": false,
     "start_time": "2021-01-12T21:06:33.335735",
     "status": "completed"
    },
    "tags": []
   },
   "source": [
    "# **Exploring data**"
   ]
  },
  {
   "cell_type": "code",
   "execution_count": 2,
   "metadata": {
    "execution": {
     "iopub.execute_input": "2021-01-12T21:06:33.381333Z",
     "iopub.status.busy": "2021-01-12T21:06:33.380675Z",
     "iopub.status.idle": "2021-01-12T21:06:33.384434Z",
     "shell.execute_reply": "2021-01-12T21:06:33.383900Z"
    },
    "papermill": {
     "duration": 0.022401,
     "end_time": "2021-01-12T21:06:33.384536",
     "exception": false,
     "start_time": "2021-01-12T21:06:33.362135",
     "status": "completed"
    },
    "tags": []
   },
   "outputs": [
    {
     "data": {
      "text/plain": [
       "(2225, 2)"
      ]
     },
     "execution_count": 2,
     "metadata": {},
     "output_type": "execute_result"
    }
   ],
   "source": [
    "data.shape"
   ]
  },
  {
   "cell_type": "code",
   "execution_count": 3,
   "metadata": {
    "execution": {
     "iopub.execute_input": "2021-01-12T21:06:33.420716Z",
     "iopub.status.busy": "2021-01-12T21:06:33.420085Z",
     "iopub.status.idle": "2021-01-12T21:06:33.433786Z",
     "shell.execute_reply": "2021-01-12T21:06:33.434235Z"
    },
    "papermill": {
     "duration": 0.035838,
     "end_time": "2021-01-12T21:06:33.434384",
     "exception": false,
     "start_time": "2021-01-12T21:06:33.398546",
     "status": "completed"
    },
    "tags": []
   },
   "outputs": [
    {
     "data": {
      "text/html": [
       "<div>\n",
       "<style scoped>\n",
       "    .dataframe tbody tr th:only-of-type {\n",
       "        vertical-align: middle;\n",
       "    }\n",
       "\n",
       "    .dataframe tbody tr th {\n",
       "        vertical-align: top;\n",
       "    }\n",
       "\n",
       "    .dataframe thead th {\n",
       "        text-align: right;\n",
       "    }\n",
       "</style>\n",
       "<table border=\"1\" class=\"dataframe\">\n",
       "  <thead>\n",
       "    <tr style=\"text-align: right;\">\n",
       "      <th></th>\n",
       "      <th>category</th>\n",
       "      <th>text</th>\n",
       "    </tr>\n",
       "  </thead>\n",
       "  <tbody>\n",
       "    <tr>\n",
       "      <th>0</th>\n",
       "      <td>tech</td>\n",
       "      <td>tv future in the hands of viewers with home th...</td>\n",
       "    </tr>\n",
       "    <tr>\n",
       "      <th>1</th>\n",
       "      <td>business</td>\n",
       "      <td>worldcom boss  left books alone  former worldc...</td>\n",
       "    </tr>\n",
       "    <tr>\n",
       "      <th>2</th>\n",
       "      <td>sport</td>\n",
       "      <td>tigers wary of farrell  gamble  leicester say ...</td>\n",
       "    </tr>\n",
       "    <tr>\n",
       "      <th>3</th>\n",
       "      <td>sport</td>\n",
       "      <td>yeading face newcastle in fa cup premiership s...</td>\n",
       "    </tr>\n",
       "    <tr>\n",
       "      <th>4</th>\n",
       "      <td>entertainment</td>\n",
       "      <td>ocean s twelve raids box office ocean s twelve...</td>\n",
       "    </tr>\n",
       "  </tbody>\n",
       "</table>\n",
       "</div>"
      ],
      "text/plain": [
       "        category                                               text\n",
       "0           tech  tv future in the hands of viewers with home th...\n",
       "1       business  worldcom boss  left books alone  former worldc...\n",
       "2          sport  tigers wary of farrell  gamble  leicester say ...\n",
       "3          sport  yeading face newcastle in fa cup premiership s...\n",
       "4  entertainment  ocean s twelve raids box office ocean s twelve..."
      ]
     },
     "execution_count": 3,
     "metadata": {},
     "output_type": "execute_result"
    }
   ],
   "source": [
    "data.head()"
   ]
  },
  {
   "cell_type": "code",
   "execution_count": 4,
   "metadata": {
    "execution": {
     "iopub.execute_input": "2021-01-12T21:06:33.467417Z",
     "iopub.status.busy": "2021-01-12T21:06:33.466826Z",
     "iopub.status.idle": "2021-01-12T21:06:33.470000Z",
     "shell.execute_reply": "2021-01-12T21:06:33.469550Z"
    },
    "papermill": {
     "duration": 0.021733,
     "end_time": "2021-01-12T21:06:33.470099",
     "exception": false,
     "start_time": "2021-01-12T21:06:33.448366",
     "status": "completed"
    },
    "tags": []
   },
   "outputs": [
    {
     "data": {
      "text/plain": [
       "Index(['category', 'text'], dtype='object')"
      ]
     },
     "execution_count": 4,
     "metadata": {},
     "output_type": "execute_result"
    }
   ],
   "source": [
    "data.columns"
   ]
  },
  {
   "cell_type": "code",
   "execution_count": 5,
   "metadata": {
    "execution": {
     "iopub.execute_input": "2021-01-12T21:06:33.506524Z",
     "iopub.status.busy": "2021-01-12T21:06:33.505894Z",
     "iopub.status.idle": "2021-01-12T21:06:33.508563Z",
     "shell.execute_reply": "2021-01-12T21:06:33.509040Z"
    },
    "papermill": {
     "duration": 0.024417,
     "end_time": "2021-01-12T21:06:33.509167",
     "exception": false,
     "start_time": "2021-01-12T21:06:33.484750",
     "status": "completed"
    },
    "tags": []
   },
   "outputs": [
    {
     "data": {
      "text/plain": [
       "sport            511\n",
       "business         510\n",
       "politics         417\n",
       "tech             401\n",
       "entertainment    386\n",
       "Name: category, dtype: int64"
      ]
     },
     "execution_count": 5,
     "metadata": {},
     "output_type": "execute_result"
    }
   ],
   "source": [
    "data['category'].value_counts()"
   ]
  },
  {
   "cell_type": "code",
   "execution_count": 6,
   "metadata": {
    "execution": {
     "iopub.execute_input": "2021-01-12T21:06:33.541775Z",
     "iopub.status.busy": "2021-01-12T21:06:33.541186Z",
     "iopub.status.idle": "2021-01-12T21:06:33.761430Z",
     "shell.execute_reply": "2021-01-12T21:06:33.760952Z"
    },
    "papermill": {
     "duration": 0.237485,
     "end_time": "2021-01-12T21:06:33.761543",
     "exception": false,
     "start_time": "2021-01-12T21:06:33.524058",
     "status": "completed"
    },
    "tags": []
   },
   "outputs": [
    {
     "data": {
      "image/png": "[encoded data removed]",
      "text/plain": [
       "<Figure size 432x288 with 1 Axes>"
      ]
     },
     "metadata": {
      "needs_background": "light"
     },
     "output_type": "display_data"
    }
   ],
   "source": [
    "%matplotlib inline\n",
    "import matplotlib.pyplot as plt\n",
    "import numpy as np\n",
    "\n",
    "plt.hist(data['category'])\n",
    "plt.show()"
   ]
  },
  {
   "cell_type": "markdown",
   "metadata": {
    "papermill": {
     "duration": 0.015228,
     "end_time": "2021-01-12T21:06:33.792614",
     "exception": false,
     "start_time": "2021-01-12T21:06:33.777386",
     "status": "completed"
    },
    "tags": []
   },
   "source": [
    "# **Data cleansing and transforming**"
   ]
  },
  {
   "cell_type": "code",
   "execution_count": 7,
   "metadata": {
    "execution": {
     "iopub.execute_input": "2021-01-12T21:06:33.832235Z",
     "iopub.status.busy": "2021-01-12T21:06:33.831473Z",
     "iopub.status.idle": "2021-01-12T21:06:36.129600Z",
     "shell.execute_reply": "2021-01-12T21:06:36.129044Z"
    },
    "papermill": {
     "duration": 2.321594,
     "end_time": "2021-01-12T21:06:36.129713",
     "exception": false,
     "start_time": "2021-01-12T21:06:33.808119",
     "status": "completed"
    },
    "tags": []
   },
   "outputs": [],
   "source": [
    "import string\n",
    "from nltk.tokenize import word_tokenize\n",
    "from nltk.corpus import stopwords\n",
    "\n",
    "signs = str.maketrans('','',string.punctuation)\n",
    "stop_words = set(stopwords.words('english'))\n",
    "\n",
    "def clean_text(row):\n",
    "    words = [w.lower() for w in row.split()]\n",
    "    words = [w.translate(signs) for w in words]\n",
    "    words = [w for w in words if w.isalpha()]\n",
    "    words = [w for w in words if not w in stop_words]\n",
    "    new_row = (' ').join(words)\n",
    "    return new_row\n",
    "\n",
    "data['text_cls'] = data['text'].apply(clean_text)"
   ]
  },
  {
   "cell_type": "code",
   "execution_count": 8,
   "metadata": {
    "execution": {
     "iopub.execute_input": "2021-01-12T21:06:36.191713Z",
     "iopub.status.busy": "2021-01-12T21:06:36.186609Z",
     "iopub.status.idle": "2021-01-12T21:06:36.202748Z",
     "shell.execute_reply": "2021-01-12T21:06:36.202138Z"
    },
    "papermill": {
     "duration": 0.055884,
     "end_time": "2021-01-12T21:06:36.202854",
     "exception": false,
     "start_time": "2021-01-12T21:06:36.146970",
     "status": "completed"
    },
    "tags": []
   },
   "outputs": [],
   "source": [
    "lens = [len(i.split()) for i in data['text_cls']]"
   ]
  },
  {
   "cell_type": "code",
   "execution_count": 9,
   "metadata": {
    "execution": {
     "iopub.execute_input": "2021-01-12T21:06:36.243601Z",
     "iopub.status.busy": "2021-01-12T21:06:36.238539Z",
     "iopub.status.idle": "2021-01-12T21:06:36.503210Z",
     "shell.execute_reply": "2021-01-12T21:06:36.502579Z"
    },
    "papermill": {
     "duration": 0.284991,
     "end_time": "2021-01-12T21:06:36.503339",
     "exception": false,
     "start_time": "2021-01-12T21:06:36.218348",
     "status": "completed"
    },
    "tags": []
   },
   "outputs": [
    {
     "data": {
      "image/png": "[encoded data removed]",
      "text/plain": [
       "<Figure size 432x288 with 1 Axes>"
      ]
     },
     "metadata": {
      "needs_background": "light"
     },
     "output_type": "display_data"
    }
   ],
   "source": [
    "plt.hist(lens, bins=100)\n",
    "plt.show()"
   ]
  },
  {
   "cell_type": "markdown",
   "metadata": {
    "papermill": {
     "duration": 0.015982,
     "end_time": "2021-01-12T21:06:36.535676",
     "exception": false,
     "start_time": "2021-01-12T21:06:36.519694",
     "status": "completed"
    },
    "tags": []
   },
   "source": [
    "# **Data preparing**"
   ]
  },
  {
   "cell_type": "code",
   "execution_count": 10,
   "metadata": {
    "execution": {
     "iopub.execute_input": "2021-01-12T21:06:36.574619Z",
     "iopub.status.busy": "2021-01-12T21:06:36.573941Z",
     "iopub.status.idle": "2021-01-12T21:06:42.065938Z",
     "shell.execute_reply": "2021-01-12T21:06:42.066454Z"
    },
    "papermill": {
     "duration": 5.514832,
     "end_time": "2021-01-12T21:06:42.066603",
     "exception": false,
     "start_time": "2021-01-12T21:06:36.551771",
     "status": "completed"
    },
    "tags": []
   },
   "outputs": [],
   "source": [
    "from tensorflow.python.keras.preprocessing.text import Tokenizer\n",
    "from tensorflow.python.keras.preprocessing.sequence import pad_sequences\n",
    "\n",
    "MAX_NB_WORDS = 5000\n",
    "oov_tok = '<OOV>'\n",
    "\n",
    "tokenizer = Tokenizer(num_words=MAX_NB_WORDS, oov_token=oov_tok)\n",
    "tokenizer.fit_on_texts(data['text_cls'].values)\n",
    "word_index = tokenizer.word_index"
   ]
  },
  {
   "cell_type": "code",
   "execution_count": 11,
   "metadata": {
    "execution": {
     "iopub.execute_input": "2021-01-12T21:06:42.103248Z",
     "iopub.status.busy": "2021-01-12T21:06:42.102343Z",
     "iopub.status.idle": "2021-01-12T21:06:42.107424Z",
     "shell.execute_reply": "2021-01-12T21:06:42.107841Z"
    },
    "papermill": {
     "duration": 0.024798,
     "end_time": "2021-01-12T21:06:42.107974",
     "exception": false,
     "start_time": "2021-01-12T21:06:42.083176",
     "status": "completed"
    },
    "tags": []
   },
   "outputs": [
    {
     "data": {
      "text/plain": [
       "30088"
      ]
     },
     "execution_count": 11,
     "metadata": {},
     "output_type": "execute_result"
    }
   ],
   "source": [
    "len(word_index)"
   ]
  },
  {
   "cell_type": "code",
   "execution_count": 12,
   "metadata": {
    "execution": {
     "iopub.execute_input": "2021-01-12T21:06:42.180627Z",
     "iopub.status.busy": "2021-01-12T21:06:42.175370Z",
     "iopub.status.idle": "2021-01-12T21:06:42.424287Z",
     "shell.execute_reply": "2021-01-12T21:06:42.423824Z"
    },
    "papermill": {
     "duration": 0.299974,
     "end_time": "2021-01-12T21:06:42.424415",
     "exception": false,
     "start_time": "2021-01-12T21:06:42.124441",
     "status": "completed"
    },
    "tags": []
   },
   "outputs": [
    {
     "name": "stdout",
     "output_type": "stream",
     "text": [
      "Shape of data tensor: (2225, 500)\n"
     ]
    }
   ],
   "source": [
    "MAX_SEQUENCE_LENGTH = 500\n",
    "EMBEDDING_DIM = 64\n",
    "trunc_type = 'post'\n",
    "padding_type = 'post'\n",
    "\n",
    "X = tokenizer.texts_to_sequences(data['text_cls'].values)\n",
    "X = pad_sequences(X, maxlen=MAX_SEQUENCE_LENGTH, padding=padding_type, truncating=trunc_type)\n",
    "print('Shape of data tensor:', X.shape)"
   ]
  },
  {
   "cell_type": "code",
   "execution_count": 13,
   "metadata": {
    "execution": {
     "iopub.execute_input": "2021-01-12T21:06:42.466719Z",
     "iopub.status.busy": "2021-01-12T21:06:42.465820Z",
     "iopub.status.idle": "2021-01-12T21:06:42.481354Z",
     "shell.execute_reply": "2021-01-12T21:06:42.480858Z"
    },
    "papermill": {
     "duration": 0.039796,
     "end_time": "2021-01-12T21:06:42.481459",
     "exception": false,
     "start_time": "2021-01-12T21:06:42.441663",
     "status": "completed"
    },
    "tags": []
   },
   "outputs": [
    {
     "name": "stdout",
     "output_type": "stream",
     "text": [
      "train: (1601, 500) (1601,)\n",
      "valid: (401, 500) (401,)\n",
      "test: (223, 500) (223,)\n"
     ]
    }
   ],
   "source": [
    "from sklearn.preprocessing import LabelEncoder\n",
    "from tensorflow.keras.utils import to_categorical\n",
    "from sklearn.model_selection import train_test_split\n",
    "\n",
    "le = LabelEncoder()\n",
    "le.fit(data['category'].unique())\n",
    "Y = le.transform(data['category'])\n",
    "\n",
    "Y_cat = to_categorical(Y,data['category'].nunique())\n",
    "\n",
    "X_train, X_test, Y_train, Y_test = train_test_split(X,Y, test_size = 0.1, random_state = 21)\n",
    "X_train, X_val, Y_train, Y_val = train_test_split(X_train,Y_train, test_size = 0.2, random_state = 21)\n",
    "print(\"train:\",X_train.shape,Y_train.shape)\n",
    "print(\"valid:\",X_val.shape,Y_val.shape)\n",
    "print(\"test:\",X_test.shape,Y_test.shape)\n",
    "\n"
   ]
  },
  {
   "cell_type": "markdown",
   "metadata": {
    "papermill": {
     "duration": 0.017699,
     "end_time": "2021-01-12T21:06:42.516413",
     "exception": false,
     "start_time": "2021-01-12T21:06:42.498714",
     "status": "completed"
    },
    "tags": []
   },
   "source": [
    "# **Model**"
   ]
  },
  {
   "cell_type": "code",
   "execution_count": 14,
   "metadata": {
    "execution": {
     "iopub.execute_input": "2021-01-12T21:06:42.558382Z",
     "iopub.status.busy": "2021-01-12T21:06:42.557771Z",
     "iopub.status.idle": "2021-01-12T21:06:43.340202Z",
     "shell.execute_reply": "2021-01-12T21:06:43.340672Z"
    },
    "papermill": {
     "duration": 0.807236,
     "end_time": "2021-01-12T21:06:43.340821",
     "exception": false,
     "start_time": "2021-01-12T21:06:42.533585",
     "status": "completed"
    },
    "tags": []
   },
   "outputs": [
    {
     "name": "stdout",
     "output_type": "stream",
     "text": [
      "Model: \"sequential\"\n",
      "_________________________________________________________________\n",
      "Layer (type)                 Output Shape              Param #   \n",
      "=================================================================\n",
      "embedding (Embedding)        (None, None, 64)          320000    \n",
      "_________________________________________________________________\n",
      "dropout (Dropout)            (None, None, 64)          0         \n",
      "_________________________________________________________________\n",
      "bidirectional (Bidirectional (None, 128)               66048     \n",
      "_________________________________________________________________\n",
      "dense (Dense)                (None, 5)                 645       \n",
      "=================================================================\n",
      "Total params: 386,693\n",
      "Trainable params: 386,693\n",
      "Non-trainable params: 0\n",
      "_________________________________________________________________\n",
      "None\n"
     ]
    }
   ],
   "source": [
    "import tensorflow as tf\n",
    "from tensorflow.keras.models import Sequential\n",
    "from tensorflow.keras.layers import Dense, Flatten, LSTM, Dropout, Activation, Embedding, Bidirectional, SpatialDropout1D\n",
    "from tensorflow.keras.callbacks import EarlyStopping\n",
    "\n",
    "model = Sequential()\n",
    "model.add(Embedding(MAX_NB_WORDS, EMBEDDING_DIM))\n",
    "model.add(Dropout(0.5))\n",
    "model.add(Bidirectional(LSTM(EMBEDDING_DIM)))\n",
    "model.add(Dense(5, activation='softmax'))\n",
    "\n",
    "opt = tf.keras.optimizers.Adam(lr=0.001, decay=1e-6)\n",
    "model.compile(\n",
    "    loss='sparse_categorical_crossentropy',\n",
    "    optimizer=opt,\n",
    "    metrics=['accuracy'],\n",
    ")\n",
    "print(model.summary())\n",
    "\n"
   ]
  },
  {
   "cell_type": "markdown",
   "metadata": {
    "papermill": {
     "duration": 0.017519,
     "end_time": "2021-01-12T21:06:43.376157",
     "exception": false,
     "start_time": "2021-01-12T21:06:43.358638",
     "status": "completed"
    },
    "tags": []
   },
   "source": [
    "# **Model Training**"
   ]
  },
  {
   "cell_type": "code",
   "execution_count": 15,
   "metadata": {
    "execution": {
     "iopub.execute_input": "2021-01-12T21:06:43.417631Z",
     "iopub.status.busy": "2021-01-12T21:06:43.416805Z",
     "iopub.status.idle": "2021-01-12T21:09:18.942334Z",
     "shell.execute_reply": "2021-01-12T21:09:18.942830Z"
    },
    "papermill": {
     "duration": 155.549122,
     "end_time": "2021-01-12T21:09:18.942978",
     "exception": false,
     "start_time": "2021-01-12T21:06:43.393856",
     "status": "completed"
    },
    "tags": []
   },
   "outputs": [
    {
     "name": "stdout",
     "output_type": "stream",
     "text": [
      "Epoch 1/10\n",
      "51/51 - 17s - loss: 1.5628 - accuracy: 0.3317 - val_loss: 1.4502 - val_accuracy: 0.4514\n",
      "Epoch 2/10\n",
      "51/51 - 15s - loss: 1.0903 - accuracy: 0.5522 - val_loss: 0.9731 - val_accuracy: 0.6334\n",
      "Epoch 3/10\n",
      "51/51 - 15s - loss: 0.5848 - accuracy: 0.8538 - val_loss: 0.3015 - val_accuracy: 0.9227\n",
      "Epoch 4/10\n",
      "51/51 - 15s - loss: 0.3820 - accuracy: 0.9026 - val_loss: 0.6436 - val_accuracy: 0.8579\n",
      "Epoch 5/10\n",
      "51/51 - 15s - loss: 0.2159 - accuracy: 0.9669 - val_loss: 0.2327 - val_accuracy: 0.9501\n",
      "Epoch 6/10\n",
      "51/51 - 15s - loss: 0.1596 - accuracy: 0.9644 - val_loss: 0.4326 - val_accuracy: 0.8554\n",
      "Epoch 7/10\n",
      "51/51 - 15s - loss: 0.0771 - accuracy: 0.9881 - val_loss: 0.2151 - val_accuracy: 0.9426\n",
      "Epoch 8/10\n",
      "51/51 - 15s - loss: 0.0937 - accuracy: 0.9800 - val_loss: 0.1890 - val_accuracy: 0.9377\n",
      "Epoch 9/10\n",
      "51/51 - 15s - loss: 0.0221 - accuracy: 0.9988 - val_loss: 0.1358 - val_accuracy: 0.9651\n",
      "Epoch 10/10\n",
      "51/51 - 15s - loss: 0.0180 - accuracy: 0.9969 - val_loss: 0.1559 - val_accuracy: 0.9651\n"
     ]
    }
   ],
   "source": [
    "epochs = 10\n",
    "history = model.fit(X_train, Y_train, epochs=epochs, validation_data=(X_val, Y_val), verbose=2)"
   ]
  },
  {
   "cell_type": "code",
   "execution_count": 16,
   "metadata": {
    "execution": {
     "iopub.execute_input": "2021-01-12T21:09:18.992909Z",
     "iopub.status.busy": "2021-01-12T21:09:18.992006Z",
     "iopub.status.idle": "2021-01-12T21:09:19.144532Z",
     "shell.execute_reply": "2021-01-12T21:09:19.144007Z"
    },
    "papermill": {
     "duration": 0.178201,
     "end_time": "2021-01-12T21:09:19.144653",
     "exception": false,
     "start_time": "2021-01-12T21:09:18.966452",
     "status": "completed"
    },
    "tags": []
   },
   "outputs": [
    {
     "data": {
      "image/png": "[encoded data removed]",
      "text/plain": [
       "<Figure size 432x288 with 1 Axes>"
      ]
     },
     "metadata": {
      "needs_background": "light"
     },
     "output_type": "display_data"
    }
   ],
   "source": [
    "plt.title('Accuracy')\n",
    "plt.plot(history.history['accuracy'], label='train')\n",
    "plt.plot(history.history['val_accuracy'], label='validation')\n",
    "plt.legend()\n",
    "plt.show()"
   ]
  },
  {
   "cell_type": "code",
   "execution_count": 17,
   "metadata": {
    "execution": {
     "iopub.execute_input": "2021-01-12T21:09:19.197760Z",
     "iopub.status.busy": "2021-01-12T21:09:19.197183Z",
     "iopub.status.idle": "2021-01-12T21:09:19.339393Z",
     "shell.execute_reply": "2021-01-12T21:09:19.339919Z"
    },
    "papermill": {
     "duration": 0.171677,
     "end_time": "2021-01-12T21:09:19.340058",
     "exception": false,
     "start_time": "2021-01-12T21:09:19.168381",
     "status": "completed"
    },
    "tags": []
   },
   "outputs": [
    {
     "data": {
      "image/png": "[encoded data removed]",
      "text/plain": [
       "<Figure size 432x288 with 1 Axes>"
      ]
     },
     "metadata": {
      "needs_background": "light"
     },
     "output_type": "display_data"
    }
   ],
   "source": [
    "plt.title('Loss')\n",
    "plt.plot(history.history['loss'], label='train')\n",
    "plt.plot(history.history['val_loss'], label='validation')\n",
    "plt.legend()\n",
    "plt.show()"
   ]
  },
  {
   "cell_type": "markdown",
   "metadata": {
    "papermill": {
     "duration": 0.023986,
     "end_time": "2021-01-12T21:09:19.388454",
     "exception": false,
     "start_time": "2021-01-12T21:09:19.364468",
     "status": "completed"
    },
    "tags": []
   },
   "source": [
    "# **Model Evaluating**"
   ]
  },
  {
   "cell_type": "code",
   "execution_count": 18,
   "metadata": {
    "execution": {
     "iopub.execute_input": "2021-01-12T21:09:19.439746Z",
     "iopub.status.busy": "2021-01-12T21:09:19.439148Z",
     "iopub.status.idle": "2021-01-12T21:09:19.927880Z",
     "shell.execute_reply": "2021-01-12T21:09:19.927266Z"
    },
    "papermill": {
     "duration": 0.515293,
     "end_time": "2021-01-12T21:09:19.927997",
     "exception": false,
     "start_time": "2021-01-12T21:09:19.412704",
     "status": "completed"
    },
    "tags": []
   },
   "outputs": [
    {
     "name": "stdout",
     "output_type": "stream",
     "text": [
      "7/7 [==============================] - 0s 54ms/step - loss: 0.1758 - accuracy: 0.9417\n",
      "Test score: 0.17582355439662933\n",
      "Test accuracy: 0.9417040348052979\n"
     ]
    }
   ],
   "source": [
    "score, acc = model.evaluate(X_test, Y_test)\n",
    "\n",
    "print('Test score:', score)\n",
    "print('Test accuracy:', acc)"
   ]
  },
  {
   "cell_type": "code",
   "execution_count": 19,
   "metadata": {
    "execution": {
     "iopub.execute_input": "2021-01-12T21:09:19.986729Z",
     "iopub.status.busy": "2021-01-12T21:09:19.986111Z",
     "iopub.status.idle": "2021-01-12T21:09:21.042279Z",
     "shell.execute_reply": "2021-01-12T21:09:21.041610Z"
    },
    "papermill": {
     "duration": 1.087255,
     "end_time": "2021-01-12T21:09:21.042423",
     "exception": false,
     "start_time": "2021-01-12T21:09:19.955168",
     "status": "completed"
    },
    "tags": []
   },
   "outputs": [],
   "source": [
    "text_labels = le.classes_ \n",
    "Y_pred = model.predict(X_test)"
   ]
  },
  {
   "cell_type": "code",
   "execution_count": 20,
   "metadata": {
    "execution": {
     "iopub.execute_input": "2021-01-12T21:09:21.099860Z",
     "iopub.status.busy": "2021-01-12T21:09:21.099244Z",
     "iopub.status.idle": "2021-01-12T21:09:21.108747Z",
     "shell.execute_reply": "2021-01-12T21:09:21.109177Z"
    },
    "papermill": {
     "duration": 0.039716,
     "end_time": "2021-01-12T21:09:21.109338",
     "exception": false,
     "start_time": "2021-01-12T21:09:21.069622",
     "status": "completed"
    },
    "tags": []
   },
   "outputs": [],
   "source": [
    "def plot_confusion_matrix(cm, classes,\n",
    "                          title='Confusion matrix',\n",
    "                          cmap=plt.cm.Blues,\n",
    "                          normalize=False):\n",
    "\n",
    "    plt.imshow(cm, interpolation='nearest', cmap=cmap)\n",
    "    plt.title(title, fontsize=30)\n",
    "    plt.colorbar()\n",
    "    tick_marks = np.arange(len(classes))\n",
    "    plt.xticks(tick_marks, classes, rotation=45, fontsize=22)\n",
    "    plt.yticks(tick_marks, classes, fontsize=22)\n",
    "    \n",
    "    if normalize:\n",
    "        cm = cm.astype('float') / cm.sum(axis=1)[:, np.newaxis]\n",
    "        fmt = '.0%'\n",
    "    else:\n",
    "        fmt = '.0f'\n",
    "        \n",
    "    thresh = cm.max() / 2.\n",
    "    for i, j in itertools.product(range(cm.shape[0]), range(cm.shape[1])):\n",
    "        plt.text(j, i, format(cm[i, j], fmt),\n",
    "                 horizontalalignment=\"center\",\n",
    "                 color=\"white\" if cm[i, j] > thresh else \"black\")\n",
    "\n",
    "    plt.ylabel('True label', fontsize=25)\n",
    "    plt.xlabel('Predicted label', fontsize=25)"
   ]
  },
  {
   "cell_type": "code",
   "execution_count": 21,
   "metadata": {
    "execution": {
     "iopub.execute_input": "2021-01-12T21:09:21.167547Z",
     "iopub.status.busy": "2021-01-12T21:09:21.166552Z",
     "iopub.status.idle": "2021-01-12T21:09:21.814448Z",
     "shell.execute_reply": "2021-01-12T21:09:21.813931Z"
    },
    "papermill": {
     "duration": 0.678107,
     "end_time": "2021-01-12T21:09:21.814570",
     "exception": false,
     "start_time": "2021-01-12T21:09:21.136463",
     "status": "completed"
    },
    "tags": []
   },
   "outputs": [
    {
     "data": {
      "image/png": "[encoded data removed]",
      "text/plain": [
       "<Figure size 1728x1440 with 2 Axes>"
      ]
     },
     "metadata": {
      "needs_background": "light"
     },
     "output_type": "display_data"
    }
   ],
   "source": [
    "from sklearn.metrics import confusion_matrix\n",
    "import itertools\n",
    "\n",
    "cnf_matrix = confusion_matrix(Y_test, Y_pred.argmax(axis=1))\n",
    "plt.figure(figsize=(24,20))\n",
    "plot_confusion_matrix(cnf_matrix, classes=text_labels, title=\"Confusion matrix\", normalize=True)\n",
    "plt.show()"
   ]
  },
  {
   "cell_type": "code",
   "execution_count": 22,
   "metadata": {
    "execution": {
     "iopub.execute_input": "2021-01-12T21:09:21.883640Z",
     "iopub.status.busy": "2021-01-12T21:09:21.879808Z",
     "iopub.status.idle": "2021-01-12T21:09:22.316512Z",
     "shell.execute_reply": "2021-01-12T21:09:22.315928Z"
    },
    "papermill": {
     "duration": 0.472545,
     "end_time": "2021-01-12T21:09:22.316643",
     "exception": false,
     "start_time": "2021-01-12T21:09:21.844098",
     "status": "completed"
    },
    "tags": []
   },
   "outputs": [
    {
     "data": {
      "image/png": "[encoded data removed]",
      "text/plain": [
       "<Figure size 1728x1440 with 2 Axes>"
      ]
     },
     "metadata": {
      "needs_background": "light"
     },
     "output_type": "display_data"
    }
   ],
   "source": [
    "plt.figure(figsize=(24,20))\n",
    "plot_confusion_matrix(cnf_matrix, classes=text_labels, title=\"Confusion matrix\", normalize=False)\n",
    "plt.show()"
   ]
  },
  {
   "cell_type": "code",
   "execution_count": null,
   "metadata": {
    "papermill": {
     "duration": 0.030006,
     "end_time": "2021-01-12T21:09:22.377813",
     "exception": false,
     "start_time": "2021-01-12T21:09:22.347807",
     "status": "completed"
    },
    "tags": []
   },
   "outputs": [],
   "source": []
  }
 ],
 "metadata": {
  "kernelspec": {
   "display_name": "Python 3",
   "language": "python",
   "name": "python3"
  },
  "language_info": {
   "codemirror_mode": {
    "name": "ipython",
    "version": 3
   },
   "file_extension": ".py",
   "mimetype": "text/x-python",
   "name": "python",
   "nbconvert_exporter": "python",
   "pygments_lexer": "ipython3",
   "version": "3.7.6"
  },
  "papermill": {
   "duration": 173.592815,
   "end_time": "2021-01-12T21:09:22.516320",
   "environment_variables": {},
   "exception": null,
   "input_path": "__notebook__.ipynb",
   "output_path": "__notebook__.ipynb",
   "parameters": {},
   "start_time": "2021-01-12T21:06:28.923505",
   "version": "2.1.0"
  }
 },
 "nbformat": 4,
 "nbformat_minor": 4
}
